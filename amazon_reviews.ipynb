{
 "cells": [
  {
   "cell_type": "markdown",
   "metadata": {},
   "source": [
    "Web Scraping: Mobile Phones' Reviews on Amazon.in\n",
    "\n",
    "Tech Stack: pandas, BeautifulSoup"
   ]
  },
  {
   "cell_type": "code",
   "execution_count": 1,
   "metadata": {},
   "outputs": [],
   "source": [
    "#importing required packages\n",
    "import requests, emoji, csv, pandas\n",
    "from bs4 import BeautifulSoup"
   ]
  },
  {
   "cell_type": "code",
   "execution_count": 2,
   "metadata": {},
   "outputs": [],
   "source": [
    "#function to scrape web pages\n",
    "def get_reviews():\n",
    "    for review in reviews: #each review card in the webpage\n",
    "    #the below code is designed after understanding HTML structure of the webpages of amazon.in\n",
    "        try:\n",
    "            rating = review.find('span', attrs = {'class':'a-icon-alt'}) #finds content whose attribute of is as mentioned\n",
    "            review_title = review.find('a', attrs = {'class':'review-title'})\n",
    "            review = review.find('div', attrs = {'class':'a-row a-spacing-small review-data'})\n",
    "            rating = rating.text.rstrip(' out of 5 stars') #removing irrelevant stuff\n",
    "            rating = int(float(rating)) #converting string type to integer value\n",
    "            review_title = review_title.text.strip()\n",
    "            review_title = emoji.get_emoji_regexp().sub(u' ', review_title) #removing emojis from review titles\n",
    "            review = review.text.strip()\n",
    "            review = emoji.get_emoji_regexp().sub(u' ', review) #removing emojis from reviews\n",
    "            mobile_phone = mobile_phones[ids.index(id)] #getting mobile phone from the list, mobile_phones corresponding to the id \n",
    "            review_data = [mobile_phone, rating, review_title, review]\n",
    "            with open(r\"C:\\Users\\vijayakumar_p\\Desktop\\ds\\test_data\\mobile_reviews.csv\", 'a') as f: #reopening the creatied a csv file to append the scraped data\n",
    "                csv.writer(f).writerow(review_data) #list is appended to the csv file row after row, number of list elements correspond to number of columns in csv file\n",
    "        except:\n",
    "            continue"
   ]
  },
  {
   "cell_type": "code",
   "execution_count": 3,
   "metadata": {},
   "outputs": [],
   "source": [
    "ids = ['B0869BGNLD', 'B078BNQ318', 'B07X1KT6MR', 'B07HGLC2CG', 'B07KXCH2FP', 'B07XVMCLP7', 'B07HGGYWL6', 'B07SKCCFJF', 'B085P2N3R8', 'B0856C1WZ1'] #unique ids for each product used in from URLs\n",
    "mobile_phones = ['Oppo Find X2', 'OnePlus 8', 'Mi 10', 'Redmi Note 9 Pro Max', 'Samsung Galaxy S10', 'Apple iPhone 11', 'Samsung Galaxy M31', 'Realme X', 'Huawei Y9s', 'Honor 9X'] #mobile phones corresponding to the ids in list 'ids'"
   ]
  },
  {
   "cell_type": "code",
   "execution_count": 4,
   "metadata": {},
   "outputs": [],
   "source": [
    "#creating a csv file to save the scraped data and setting headers before appending the scraped data\n",
    "with open(r'C:\\Users\\vijayakumar_p\\Desktop\\ds\\test_data\\mobile_reviews.csv', 'a') as f:\n",
    "    headers = ['Mobile Phone', 'Rating', 'Review Title', 'Review'] #headers of the csv file\n",
    "    csv.writer(f).writerow(headers) #writing headers to the csv file"
   ]
  },
  {
   "cell_type": "code",
   "execution_count": 5,
   "metadata": {},
   "outputs": [],
   "source": [
    "for id in ids: #navigating to product page of each mobile phone\n",
    "    for page_number in range(1,3): #navigating to web page that contains next 10 reviews\n",
    "        URL = 'https://www.amazon.in/gp/aw/reviews/' + id + '/ref=cm_cr_arp_mb_viewopt_srt?ie=UTF8&sortBy=recent&pageNumber=' + str(page_number) #constructing URL based on mobile phone id and review page\n",
    "        page = requests.get(URL) #requesting mobile phone's review page\n",
    "        html_soup = BeautifulSoup(page.text, 'html.parser') #parsing web page content in html\n",
    "        reviews = html_soup.find_all('div', class_ = 'a-section review aok-relative') #extracting particular content of interest by div\n",
    "        get_reviews() #get desired content"
   ]
  },
  {
   "cell_type": "code",
   "execution_count": 6,
   "metadata": {},
   "outputs": [
    {
     "data": {
      "text/html": [
       "<div>\n",
       "<style scoped>\n",
       "    .dataframe tbody tr th:only-of-type {\n",
       "        vertical-align: middle;\n",
       "    }\n",
       "\n",
       "    .dataframe tbody tr th {\n",
       "        vertical-align: top;\n",
       "    }\n",
       "\n",
       "    .dataframe thead th {\n",
       "        text-align: right;\n",
       "    }\n",
       "</style>\n",
       "<table border=\"1\" class=\"dataframe\">\n",
       "  <thead>\n",
       "    <tr style=\"text-align: right;\">\n",
       "      <th></th>\n",
       "      <th>Mobile Phone</th>\n",
       "      <th>Rating</th>\n",
       "      <th>Review Title</th>\n",
       "      <th>Review</th>\n",
       "    </tr>\n",
       "  </thead>\n",
       "  <tbody>\n",
       "    <tr>\n",
       "      <th>0</th>\n",
       "      <td>Oppo Find X2</td>\n",
       "      <td>5</td>\n",
       "      <td>Class at its best...Great experience...true fl...</td>\n",
       "      <td>Used it for a day...it seems perfect as of now...</td>\n",
       "    </tr>\n",
       "    <tr>\n",
       "      <th>1</th>\n",
       "      <td>Oppo Find X2</td>\n",
       "      <td>4</td>\n",
       "      <td>1week experience</td>\n",
       "      <td>Totally different experience with the display.</td>\n",
       "    </tr>\n",
       "    <tr>\n",
       "      <th>2</th>\n",
       "      <td>Oppo Find X2</td>\n",
       "      <td>1</td>\n",
       "      <td>Worst</td>\n",
       "      <td>Worst</td>\n",
       "    </tr>\n",
       "    <tr>\n",
       "      <th>3</th>\n",
       "      <td>Oppo Find X2</td>\n",
       "      <td>1</td>\n",
       "      <td>Oppo find x 2 worse phone</td>\n",
       "      <td>Worse phone ever have ever seen pathetic batte...</td>\n",
       "    </tr>\n",
       "    <tr>\n",
       "      <th>4</th>\n",
       "      <td>Oppo Find X2</td>\n",
       "      <td>1</td>\n",
       "      <td>Not even close to oneplus 8 pro</td>\n",
       "      <td>Mediocre phone with high price</td>\n",
       "    </tr>\n",
       "  </tbody>\n",
       "</table>\n",
       "</div>"
      ],
      "text/plain": [
       "   Mobile Phone  Rating                                       Review Title  \\\n",
       "0  Oppo Find X2       5  Class at its best...Great experience...true fl...   \n",
       "1  Oppo Find X2       4                                   1week experience   \n",
       "2  Oppo Find X2       1                                              Worst   \n",
       "3  Oppo Find X2       1                          Oppo find x 2 worse phone   \n",
       "4  Oppo Find X2       1                    Not even close to oneplus 8 pro   \n",
       "\n",
       "                                              Review  \n",
       "0  Used it for a day...it seems perfect as of now...  \n",
       "1     Totally different experience with the display.  \n",
       "2                                              Worst  \n",
       "3  Worse phone ever have ever seen pathetic batte...  \n",
       "4                     Mediocre phone with high price  "
      ]
     },
     "execution_count": 6,
     "metadata": {},
     "output_type": "execute_result"
    }
   ],
   "source": [
    "df = pandas.read_csv(r\"C:\\Users\\vijayakumar_p\\Desktop\\ds\\test_data\\mobile_reviews.csv\", engine = 'python') #reading the scraped data from the saved csv file with engine set to python to avoid utf-8 decode error\n",
    "df.head()"
   ]
  },
  {
   "cell_type": "code",
   "execution_count": null,
   "metadata": {},
   "outputs": [],
   "source": []
  }
 ],
 "metadata": {
  "kernelspec": {
   "display_name": "Python 3",
   "language": "python",
   "name": "python3"
  },
  "language_info": {
   "codemirror_mode": {
    "name": "ipython",
    "version": 3
   },
   "file_extension": ".py",
   "mimetype": "text/x-python",
   "name": "python",
   "nbconvert_exporter": "python",
   "pygments_lexer": "ipython3",
   "version": "3.7.6"
  }
 },
 "nbformat": 4,
 "nbformat_minor": 4
}
